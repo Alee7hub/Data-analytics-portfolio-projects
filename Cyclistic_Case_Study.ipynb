{
 "cells": [
  {
   "cell_type": "markdown",
   "id": "9182ef3c",
   "metadata": {},
   "source": [
    "# Cyclistic case study\n",
    "Ali Kakavand\n",
    "<br>2023-10-17\n",
    "## Introduction and Scenario\n",
    "The following study is a project defined within the Google Data Analytics program. Cyclistic is a fictional bike-sharing company in which I am supposed to be working as a junior data analyst. The company has come to this conclusion that its future success is relying on increasing the number of annual membership. I have been tasked with investigationg the historical data to answering this question that how differently annual members and casual riders use cyclistic bikes differently. \n",
    "<br>I am going to take all the steps I learned in the program to conduct such an analysis. \n",
    "## Phase 1: Ask\n",
    "Although my department has been tasked with providing new marketing strategies to address the challenge of converting casual riders to members, my particular responsibility to analyze this data to figure out how annual members and casual riders are using the bikes differently. The outcome of my analysis will help the department to target their users effectively. \n",
    "## Phase 2: Prepare\n",
    "### 2.1. Source\n",
    "The data required for the analysis has been made available by Motivate International Inc. under this [license](https://divvybikes.com/data-license-agreement). The data itself can be downloaded from [here](https://divvy-tripdata.s3.amazonaws.com/index.html). Although the data is available for the last 8 years, I used the data associated with 2022. I firstly downloaded all the 12 months of data, then copied them to the working directory. These files have more that 5.6 million records collectively. Each record consists of an ID generated for each ride, the type of bike being used, data and time of ride start and end, name and ID of each starting and ending station, as well as their latitude and langitude, and finally the user type. Sensitive data associated to the users has been already removed from the datasets.\n",
    "### 2.2. ROCCC?\n",
    "**Reliable**: This data is publically available. So for the purpose of this study, it can be thought as a reliable data.\n",
    "<br>**Original**: This data collected by a first party, namely Cyclistic. Therefore, it is original.\n",
    "<br>**Current**: As I explained, these datasets are obtained in 2022. So yes it is current.\n",
    "<br>**Comprehensive**: For the purpose of the task in hand, it has enough information so that we would be able to answer the main question.\n",
    "<br>**Cited**: This data has been licensed by Motivate Inc.\n",
    "\n",
    "It is clear that the dataset has satisfied all the criteria of ROCCC. Let's get started.\n",
    "## Phase 3: Process\n",
    "### 3.1. Tools\n",
    "Since we are dealing with more than of 1GB worth of data, spreadsheets can not be a good option. Obviously a database querying tool is required. I am using BigQuery for performing SQL queries. However, the sandbox version of BigQuery, which is the one I have, has some limitations which made my analysis hard. That is why I decided to go with programming languages. I prefered Python which is enjoying from a variety of libraries and functions for doing almsot anything, including data analysis. Moreover, it offers a powerful markdown notebook for documenting and sharing the analysis and its results. "
   ]
  },
  {
   "cell_type": "code",
   "execution_count": 1,
   "id": "eedc804d",
   "metadata": {},
   "outputs": [],
   "source": [
    "# importing required libraries\n",
    "\n",
    "import pandas as pd\n",
    "import numpy as np\n",
    "import seaborn as sns\n",
    "import datetime \n",
    "import matplotlib.pyplot as plt\n",
    "\n",
    "%matplotlib inline"
   ]
  },
  {
   "cell_type": "markdown",
   "id": "84702d2c",
   "metadata": {},
   "source": [
    "### 3.2. Importing the datasets for each month"
   ]
  },
  {
   "cell_type": "code",
   "execution_count": 2,
   "id": "09ffff3d",
   "metadata": {},
   "outputs": [],
   "source": [
    "# importing the datasets (2022)\n",
    "\n",
    "tripdata_raw01 = pd.read_csv('C:/Users/a7kak/202201-divvy-tripdata.csv')\n",
    "tripdata_raw02 = pd.read_csv('C:/Users/a7kak/202202-divvy-tripdata.csv')\n",
    "tripdata_raw03 = pd.read_csv('C:/Users/a7kak/202203-divvy-tripdata.csv')\n",
    "tripdata_raw04 = pd.read_csv('C:/Users/a7kak/202204-divvy-tripdata.csv')\n",
    "tripdata_raw05 = pd.read_csv('C:/Users/a7kak/202205-divvy-tripdata.csv')\n",
    "tripdata_raw06 = pd.read_csv('C:/Users/a7kak/202206-divvy-tripdata.csv')\n",
    "tripdata_raw07 = pd.read_csv('C:/Users/a7kak/202207-divvy-tripdata.csv')\n",
    "tripdata_raw08 = pd.read_csv('C:/Users/a7kak/202208-divvy-tripdata.csv')\n",
    "tripdata_raw09 = pd.read_csv('C:/Users/a7kak/202209-divvy-tripdata.csv')\n",
    "tripdata_raw10 = pd.read_csv('C:/Users/a7kak/202210-divvy-tripdata.csv')\n",
    "tripdata_raw11 = pd.read_csv('C:/Users/a7kak/202211-divvy-tripdata.csv')\n",
    "tripdata_raw12 = pd.read_csv('C:/Users/a7kak/202212-divvy-tripdata.csv')"
   ]
  },
  {
   "cell_type": "markdown",
   "id": "cfcdcda2",
   "metadata": {},
   "source": [
    "### 3.3. Merging the data to creat one large dataset"
   ]
  },
  {
   "cell_type": "code",
   "execution_count": 3,
   "id": "8a3c001e",
   "metadata": {},
   "outputs": [],
   "source": [
    "# merging all data\n",
    "\n",
    "tripdata = pd.concat([tripdata_raw01, tripdata_raw02, tripdata_raw03, tripdata_raw04, \n",
    "                      tripdata_raw05, tripdata_raw06, tripdata_raw07, tripdata_raw08, \n",
    "                      tripdata_raw09, tripdata_raw10, tripdata_raw11, tripdata_raw12], ignore_index=True)"
   ]
  },
  {
   "cell_type": "markdown",
   "id": "c2181d8b",
   "metadata": {},
   "source": [
    "### 3.4. Inspecting the data"
   ]
  },
  {
   "cell_type": "code",
   "execution_count": 4,
   "id": "b59fecc1",
   "metadata": {},
   "outputs": [
    {
     "data": {
      "text/plain": [
       "(5667717, 13)"
      ]
     },
     "execution_count": 4,
     "metadata": {},
     "output_type": "execute_result"
    }
   ],
   "source": [
    "tripdata.shape"
   ]
  },
  {
   "cell_type": "code",
   "execution_count": 5,
   "id": "3391eeab",
   "metadata": {},
   "outputs": [
    {
     "name": "stdout",
     "output_type": "stream",
     "text": [
      "<class 'pandas.core.frame.DataFrame'>\n",
      "RangeIndex: 5667717 entries, 0 to 5667716\n",
      "Data columns (total 13 columns):\n",
      " #   Column              Dtype  \n",
      "---  ------              -----  \n",
      " 0   ride_id             object \n",
      " 1   rideable_type       object \n",
      " 2   started_at          object \n",
      " 3   ended_at            object \n",
      " 4   start_station_name  object \n",
      " 5   start_station_id    object \n",
      " 6   end_station_name    object \n",
      " 7   end_station_id      object \n",
      " 8   start_lat           float64\n",
      " 9   start_lng           float64\n",
      " 10  end_lat             float64\n",
      " 11  end_lng             float64\n",
      " 12  member_casual       object \n",
      "dtypes: float64(4), object(9)\n",
      "memory usage: 562.1+ MB\n"
     ]
    }
   ],
   "source": [
    "tripdata.info()"
   ]
  },
  {
   "cell_type": "code",
   "execution_count": 6,
   "id": "36e16da2",
   "metadata": {},
   "outputs": [
    {
     "data": {
      "text/plain": [
       "ride_id               5667717\n",
       "rideable_type               3\n",
       "started_at            4745862\n",
       "ended_at              4758633\n",
       "start_station_name       1674\n",
       "start_station_id         1313\n",
       "end_station_name         1692\n",
       "end_station_id           1317\n",
       "start_lat              668346\n",
       "start_lng              631047\n",
       "end_lat                  1606\n",
       "end_lng                  1590\n",
       "member_casual               2\n",
       "dtype: int64"
      ]
     },
     "execution_count": 6,
     "metadata": {},
     "output_type": "execute_result"
    }
   ],
   "source": [
    "# to ensure that important columns have the right numbers of values (categories), e.g. 'rideable_type' and 'member_casual'\n",
    "\n",
    "tripdata.nunique(dropna=True)"
   ]
  },
  {
   "cell_type": "code",
   "execution_count": 7,
   "id": "db2edf81",
   "metadata": {},
   "outputs": [
    {
     "data": {
      "text/plain": [
       "member_casual\n",
       "member    3345685\n",
       "casual    2322032\n",
       "Name: count, dtype: int64"
      ]
     },
     "execution_count": 7,
     "metadata": {},
     "output_type": "execute_result"
    }
   ],
   "source": [
    "# counting the number of each value in a column, also ensuring there is no other value in important columns except except\n",
    "# expected\n",
    "\n",
    "tripdata['member_casual'].value_counts()"
   ]
  },
  {
   "cell_type": "code",
   "execution_count": 8,
   "id": "05b46ad3",
   "metadata": {},
   "outputs": [
    {
     "data": {
      "text/plain": [
       "rideable_type\n",
       "electric_bike    2889029\n",
       "classic_bike     2601214\n",
       "docked_bike       177474\n",
       "Name: count, dtype: int64"
      ]
     },
     "execution_count": 8,
     "metadata": {},
     "output_type": "execute_result"
    }
   ],
   "source": [
    "tripdata['rideable_type'].value_counts()"
   ]
  },
  {
   "cell_type": "code",
   "execution_count": 9,
   "id": "74d68421",
   "metadata": {},
   "outputs": [
    {
     "data": {
      "text/html": [
       "<div>\n",
       "<style scoped>\n",
       "    .dataframe tbody tr th:only-of-type {\n",
       "        vertical-align: middle;\n",
       "    }\n",
       "\n",
       "    .dataframe tbody tr th {\n",
       "        vertical-align: top;\n",
       "    }\n",
       "\n",
       "    .dataframe thead th {\n",
       "        text-align: right;\n",
       "    }\n",
       "</style>\n",
       "<table border=\"1\" class=\"dataframe\">\n",
       "  <thead>\n",
       "    <tr style=\"text-align: right;\">\n",
       "      <th></th>\n",
       "      <th>ride_id</th>\n",
       "      <th>rideable_type</th>\n",
       "      <th>started_at</th>\n",
       "      <th>ended_at</th>\n",
       "      <th>start_station_name</th>\n",
       "      <th>start_station_id</th>\n",
       "      <th>end_station_name</th>\n",
       "      <th>end_station_id</th>\n",
       "      <th>start_lat</th>\n",
       "      <th>start_lng</th>\n",
       "      <th>end_lat</th>\n",
       "      <th>end_lng</th>\n",
       "      <th>member_casual</th>\n",
       "    </tr>\n",
       "  </thead>\n",
       "  <tbody>\n",
       "    <tr>\n",
       "      <th>0</th>\n",
       "      <td>C2F7DD78E82EC875</td>\n",
       "      <td>electric_bike</td>\n",
       "      <td>2022-01-13 11:59:47</td>\n",
       "      <td>2022-01-13 12:02:44</td>\n",
       "      <td>Glenwood Ave &amp; Touhy Ave</td>\n",
       "      <td>525</td>\n",
       "      <td>Clark St &amp; Touhy Ave</td>\n",
       "      <td>RP-007</td>\n",
       "      <td>42.012800</td>\n",
       "      <td>-87.665906</td>\n",
       "      <td>42.012560</td>\n",
       "      <td>-87.674367</td>\n",
       "      <td>casual</td>\n",
       "    </tr>\n",
       "    <tr>\n",
       "      <th>1</th>\n",
       "      <td>A6CF8980A652D272</td>\n",
       "      <td>electric_bike</td>\n",
       "      <td>2022-01-10 08:41:56</td>\n",
       "      <td>2022-01-10 08:46:17</td>\n",
       "      <td>Glenwood Ave &amp; Touhy Ave</td>\n",
       "      <td>525</td>\n",
       "      <td>Clark St &amp; Touhy Ave</td>\n",
       "      <td>RP-007</td>\n",
       "      <td>42.012763</td>\n",
       "      <td>-87.665967</td>\n",
       "      <td>42.012560</td>\n",
       "      <td>-87.674367</td>\n",
       "      <td>casual</td>\n",
       "    </tr>\n",
       "    <tr>\n",
       "      <th>2</th>\n",
       "      <td>BD0F91DFF741C66D</td>\n",
       "      <td>classic_bike</td>\n",
       "      <td>2022-01-25 04:53:40</td>\n",
       "      <td>2022-01-25 04:58:01</td>\n",
       "      <td>Sheffield Ave &amp; Fullerton Ave</td>\n",
       "      <td>TA1306000016</td>\n",
       "      <td>Greenview Ave &amp; Fullerton Ave</td>\n",
       "      <td>TA1307000001</td>\n",
       "      <td>41.925602</td>\n",
       "      <td>-87.653708</td>\n",
       "      <td>41.925330</td>\n",
       "      <td>-87.665800</td>\n",
       "      <td>member</td>\n",
       "    </tr>\n",
       "    <tr>\n",
       "      <th>3</th>\n",
       "      <td>CBB80ED419105406</td>\n",
       "      <td>classic_bike</td>\n",
       "      <td>2022-01-04 00:18:04</td>\n",
       "      <td>2022-01-04 00:33:00</td>\n",
       "      <td>Clark St &amp; Bryn Mawr Ave</td>\n",
       "      <td>KA1504000151</td>\n",
       "      <td>Paulina St &amp; Montrose Ave</td>\n",
       "      <td>TA1309000021</td>\n",
       "      <td>41.983593</td>\n",
       "      <td>-87.669154</td>\n",
       "      <td>41.961507</td>\n",
       "      <td>-87.671387</td>\n",
       "      <td>casual</td>\n",
       "    </tr>\n",
       "    <tr>\n",
       "      <th>4</th>\n",
       "      <td>DDC963BFDDA51EEA</td>\n",
       "      <td>classic_bike</td>\n",
       "      <td>2022-01-20 01:31:10</td>\n",
       "      <td>2022-01-20 01:37:12</td>\n",
       "      <td>Michigan Ave &amp; Jackson Blvd</td>\n",
       "      <td>TA1309000002</td>\n",
       "      <td>State St &amp; Randolph St</td>\n",
       "      <td>TA1305000029</td>\n",
       "      <td>41.877850</td>\n",
       "      <td>-87.624080</td>\n",
       "      <td>41.884621</td>\n",
       "      <td>-87.627834</td>\n",
       "      <td>member</td>\n",
       "    </tr>\n",
       "  </tbody>\n",
       "</table>\n",
       "</div>"
      ],
      "text/plain": [
       "            ride_id  rideable_type           started_at             ended_at  \\\n",
       "0  C2F7DD78E82EC875  electric_bike  2022-01-13 11:59:47  2022-01-13 12:02:44   \n",
       "1  A6CF8980A652D272  electric_bike  2022-01-10 08:41:56  2022-01-10 08:46:17   \n",
       "2  BD0F91DFF741C66D   classic_bike  2022-01-25 04:53:40  2022-01-25 04:58:01   \n",
       "3  CBB80ED419105406   classic_bike  2022-01-04 00:18:04  2022-01-04 00:33:00   \n",
       "4  DDC963BFDDA51EEA   classic_bike  2022-01-20 01:31:10  2022-01-20 01:37:12   \n",
       "\n",
       "              start_station_name start_station_id  \\\n",
       "0       Glenwood Ave & Touhy Ave              525   \n",
       "1       Glenwood Ave & Touhy Ave              525   \n",
       "2  Sheffield Ave & Fullerton Ave     TA1306000016   \n",
       "3       Clark St & Bryn Mawr Ave     KA1504000151   \n",
       "4    Michigan Ave & Jackson Blvd     TA1309000002   \n",
       "\n",
       "                end_station_name end_station_id  start_lat  start_lng  \\\n",
       "0           Clark St & Touhy Ave         RP-007  42.012800 -87.665906   \n",
       "1           Clark St & Touhy Ave         RP-007  42.012763 -87.665967   \n",
       "2  Greenview Ave & Fullerton Ave   TA1307000001  41.925602 -87.653708   \n",
       "3      Paulina St & Montrose Ave   TA1309000021  41.983593 -87.669154   \n",
       "4         State St & Randolph St   TA1305000029  41.877850 -87.624080   \n",
       "\n",
       "     end_lat    end_lng member_casual  \n",
       "0  42.012560 -87.674367        casual  \n",
       "1  42.012560 -87.674367        casual  \n",
       "2  41.925330 -87.665800        member  \n",
       "3  41.961507 -87.671387        casual  \n",
       "4  41.884621 -87.627834        member  "
      ]
     },
     "execution_count": 9,
     "metadata": {},
     "output_type": "execute_result"
    }
   ],
   "source": [
    "tripdata.head()"
   ]
  },
  {
   "cell_type": "markdown",
   "id": "c0bde63f",
   "metadata": {},
   "source": [
    "At this step, I make a backup of the one single dataset that I created."
   ]
  },
  {
   "cell_type": "code",
   "execution_count": 10,
   "id": "7417a184",
   "metadata": {},
   "outputs": [],
   "source": [
    "# backup (bc: before cleaning)\n",
    "\n",
    "# tripdata.to_csv('2022-divvy-tripdata-backup-bc.csv')"
   ]
  },
  {
   "cell_type": "markdown",
   "id": "4a003d31",
   "metadata": {},
   "source": [
    "### 3.5. Data cleaning\n",
    "Inspecting the data shows us that we must do at least two things here. One is to extract the month and the day parts of the ride date. Two is to calculate the ride length for each ride. Having these two manipulations done, it would be much easier to search for trends and patterns. But before that, we can get rid of those information which are seemingly irrelevant to our analysis. "
   ]
  },
  {
   "cell_type": "code",
   "execution_count": 11,
   "id": "12af63c6",
   "metadata": {},
   "outputs": [],
   "source": [
    "# dropping those columns specifying the geographic locations of stations. For the purpose of the current study, they are\n",
    "# irrelevant\n",
    "\n",
    "tripdata.drop(['start_lat', 'start_lng', 'end_lat', 'end_lng'], axis=1, inplace=True)"
   ]
  },
  {
   "cell_type": "markdown",
   "id": "009cf5fb",
   "metadata": {},
   "source": [
    "To be able to manipulate the data, the dtype of ride date and time must be changed from string to datetime. "
   ]
  },
  {
   "cell_type": "code",
   "execution_count": 12,
   "id": "84f0b5e7",
   "metadata": {},
   "outputs": [],
   "source": [
    "# changing the dtype of columns 'started_at' and 'ended_at' from str to datetime\n",
    "\n",
    "tripdata['started_at'] = pd.to_datetime(tripdata['started_at'])\n",
    "tripdata['ended_at'] = pd.to_datetime(tripdata['ended_at'])"
   ]
  },
  {
   "cell_type": "code",
   "execution_count": 13,
   "id": "376fcc79",
   "metadata": {},
   "outputs": [
    {
     "data": {
      "text/plain": [
       "ride_id                       object\n",
       "rideable_type                 object\n",
       "started_at            datetime64[ns]\n",
       "ended_at              datetime64[ns]\n",
       "start_station_name            object\n",
       "start_station_id              object\n",
       "end_station_name              object\n",
       "end_station_id                object\n",
       "member_casual                 object\n",
       "dtype: object"
      ]
     },
     "execution_count": 13,
     "metadata": {},
     "output_type": "execute_result"
    }
   ],
   "source": [
    "tripdata.dtypes"
   ]
  },
  {
   "cell_type": "code",
   "execution_count": 14,
   "id": "b37436ac",
   "metadata": {},
   "outputs": [],
   "source": [
    "# creating a new column containing the ride length\n",
    "\n",
    "tripdata['ride_length'] = tripdata['ended_at'] - tripdata['started_at']"
   ]
  },
  {
   "cell_type": "code",
   "execution_count": 15,
   "id": "85a0869d",
   "metadata": {},
   "outputs": [
    {
     "data": {
      "text/plain": [
       "ride_id                        object\n",
       "rideable_type                  object\n",
       "started_at             datetime64[ns]\n",
       "ended_at               datetime64[ns]\n",
       "start_station_name             object\n",
       "start_station_id               object\n",
       "end_station_name               object\n",
       "end_station_id                 object\n",
       "member_casual                  object\n",
       "ride_length           timedelta64[ns]\n",
       "dtype: object"
      ]
     },
     "execution_count": 15,
     "metadata": {},
     "output_type": "execute_result"
    }
   ],
   "source": [
    "tripdata.dtypes"
   ]
  },
  {
   "cell_type": "code",
   "execution_count": 16,
   "id": "49a1666c",
   "metadata": {},
   "outputs": [
    {
     "data": {
      "text/plain": [
       "4994493    28 days 17:47:15\n",
       "1464697    25 days 04:17:48\n",
       "2119596    24 days 21:00:38\n",
       "286843     23 days 20:34:04\n",
       "2905537    23 days 18:08:49\n",
       "                 ...       \n",
       "1810805   -1 days +21:50:55\n",
       "1635637   -1 days +21:49:58\n",
       "2095200   -1 days +21:42:35\n",
       "4743742   -1 days +21:11:18\n",
       "4305947   -8 days +19:26:39\n",
       "Name: ride_length, Length: 5667717, dtype: timedelta64[ns]"
      ]
     },
     "execution_count": 16,
     "metadata": {},
     "output_type": "execute_result"
    }
   ],
   "source": [
    "tripdata['ride_length'].sort_values(ascending=False)"
   ]
  },
  {
   "cell_type": "markdown",
   "id": "021fdd59",
   "metadata": {},
   "source": [
    "As can be seen, there are some rows that have negative or zero values. That means the starting time of some rides are ahead \n",
    "of their ending time which does not make sense. It is likely that this is a problem of data entry. We must get rid of these\n",
    "rows because there is no way for us to find out about the right data to be entered. However, in real world, this is a matter that needs to be discussed with the team."
   ]
  },
  {
   "cell_type": "code",
   "execution_count": 17,
   "id": "b83d963d",
   "metadata": {},
   "outputs": [
    {
     "data": {
      "text/plain": [
       "531"
      ]
     },
     "execution_count": 17,
     "metadata": {},
     "output_type": "execute_result"
    }
   ],
   "source": [
    "# First, let us check how many negative and zero timedelta values we have. Turns out that there are 531 of them\n",
    "\n",
    "tripdata_negative_length = tripdata[tripdata['ride_length'] <= pd.Timedelta(0)]\n",
    "tripdata_negative_length['ride_length'].count()"
   ]
  },
  {
   "cell_type": "code",
   "execution_count": 18,
   "id": "5cb83694",
   "metadata": {},
   "outputs": [],
   "source": [
    "# Now, it is time to remove all those negative and zero timedelta values\n",
    "\n",
    "tripdata = tripdata[tripdata['ride_length'] > pd.Timedelta(0)]"
   ]
  },
  {
   "cell_type": "code",
   "execution_count": 19,
   "id": "93ebc878",
   "metadata": {},
   "outputs": [
    {
     "data": {
      "text/plain": [
       "4994493   28 days 17:47:15\n",
       "1464697   25 days 04:17:48\n",
       "2119596   24 days 21:00:38\n",
       "286843    23 days 20:34:04\n",
       "2905537   23 days 18:08:49\n",
       "                ...       \n",
       "3584766    0 days 00:00:01\n",
       "1441852    0 days 00:00:01\n",
       "3553033    0 days 00:00:01\n",
       "1455804    0 days 00:00:01\n",
       "800305     0 days 00:00:01\n",
       "Name: ride_length, Length: 5667186, dtype: timedelta64[ns]"
      ]
     },
     "execution_count": 19,
     "metadata": {},
     "output_type": "execute_result"
    }
   ],
   "source": [
    "tripdata['ride_length'].sort_values(ascending=False)"
   ]
  },
  {
   "cell_type": "markdown",
   "id": "b5cd594a",
   "metadata": {},
   "source": [
    "It is noteworthy that there are still some weird records that indicate some rides taken place in order of seconds. In real world, they must be verified because they may be wrong and would influence the results. For the purpose of this study, I assumed they are correct. \n",
    "\n",
    "Now, I will extract the month and day parts of the ride date."
   ]
  },
  {
   "cell_type": "code",
   "execution_count": 20,
   "id": "dfaa3145",
   "metadata": {},
   "outputs": [],
   "source": [
    "# Now, let us extract the month and the day of each ride. Year of the ride seems to be irrelevant to our analysis\n",
    "\n",
    "tripdata['month'] = tripdata['started_at'].dt.month\n",
    "tripdata['day'] = tripdata['started_at'].dt.day"
   ]
  },
  {
   "cell_type": "code",
   "execution_count": 21,
   "id": "aead0b36",
   "metadata": {},
   "outputs": [],
   "source": [
    "# Converting the \"month\" and \"day\" from numbers to words\n",
    "\n",
    "tripdata['month'] = tripdata['started_at'].dt.strftime('%b')\n",
    "tripdata['day'] = tripdata['started_at'].dt.strftime('%a')"
   ]
  },
  {
   "cell_type": "code",
   "execution_count": 22,
   "id": "50d00294",
   "metadata": {},
   "outputs": [
    {
     "data": {
      "text/plain": [
       "ride_id                        object\n",
       "rideable_type                  object\n",
       "started_at             datetime64[ns]\n",
       "ended_at               datetime64[ns]\n",
       "start_station_name             object\n",
       "start_station_id               object\n",
       "end_station_name               object\n",
       "end_station_id                 object\n",
       "member_casual                  object\n",
       "ride_length           timedelta64[ns]\n",
       "month                          object\n",
       "day                            object\n",
       "dtype: object"
      ]
     },
     "execution_count": 22,
     "metadata": {},
     "output_type": "execute_result"
    }
   ],
   "source": [
    "tripdata.dtypes"
   ]
  },
  {
   "cell_type": "code",
   "execution_count": 23,
   "id": "57d42a3b",
   "metadata": {},
   "outputs": [
    {
     "data": {
      "text/html": [
       "<div>\n",
       "<style scoped>\n",
       "    .dataframe tbody tr th:only-of-type {\n",
       "        vertical-align: middle;\n",
       "    }\n",
       "\n",
       "    .dataframe tbody tr th {\n",
       "        vertical-align: top;\n",
       "    }\n",
       "\n",
       "    .dataframe thead th {\n",
       "        text-align: right;\n",
       "    }\n",
       "</style>\n",
       "<table border=\"1\" class=\"dataframe\">\n",
       "  <thead>\n",
       "    <tr style=\"text-align: right;\">\n",
       "      <th></th>\n",
       "      <th>ride_id</th>\n",
       "      <th>rideable_type</th>\n",
       "      <th>started_at</th>\n",
       "      <th>ended_at</th>\n",
       "      <th>start_station_name</th>\n",
       "      <th>start_station_id</th>\n",
       "      <th>end_station_name</th>\n",
       "      <th>end_station_id</th>\n",
       "      <th>member_casual</th>\n",
       "      <th>ride_length</th>\n",
       "      <th>month</th>\n",
       "      <th>day</th>\n",
       "    </tr>\n",
       "  </thead>\n",
       "  <tbody>\n",
       "    <tr>\n",
       "      <th>0</th>\n",
       "      <td>C2F7DD78E82EC875</td>\n",
       "      <td>electric_bike</td>\n",
       "      <td>2022-01-13 11:59:47</td>\n",
       "      <td>2022-01-13 12:02:44</td>\n",
       "      <td>Glenwood Ave &amp; Touhy Ave</td>\n",
       "      <td>525</td>\n",
       "      <td>Clark St &amp; Touhy Ave</td>\n",
       "      <td>RP-007</td>\n",
       "      <td>casual</td>\n",
       "      <td>0 days 00:02:57</td>\n",
       "      <td>Jan</td>\n",
       "      <td>Thu</td>\n",
       "    </tr>\n",
       "    <tr>\n",
       "      <th>1</th>\n",
       "      <td>A6CF8980A652D272</td>\n",
       "      <td>electric_bike</td>\n",
       "      <td>2022-01-10 08:41:56</td>\n",
       "      <td>2022-01-10 08:46:17</td>\n",
       "      <td>Glenwood Ave &amp; Touhy Ave</td>\n",
       "      <td>525</td>\n",
       "      <td>Clark St &amp; Touhy Ave</td>\n",
       "      <td>RP-007</td>\n",
       "      <td>casual</td>\n",
       "      <td>0 days 00:04:21</td>\n",
       "      <td>Jan</td>\n",
       "      <td>Mon</td>\n",
       "    </tr>\n",
       "    <tr>\n",
       "      <th>2</th>\n",
       "      <td>BD0F91DFF741C66D</td>\n",
       "      <td>classic_bike</td>\n",
       "      <td>2022-01-25 04:53:40</td>\n",
       "      <td>2022-01-25 04:58:01</td>\n",
       "      <td>Sheffield Ave &amp; Fullerton Ave</td>\n",
       "      <td>TA1306000016</td>\n",
       "      <td>Greenview Ave &amp; Fullerton Ave</td>\n",
       "      <td>TA1307000001</td>\n",
       "      <td>member</td>\n",
       "      <td>0 days 00:04:21</td>\n",
       "      <td>Jan</td>\n",
       "      <td>Tue</td>\n",
       "    </tr>\n",
       "    <tr>\n",
       "      <th>3</th>\n",
       "      <td>CBB80ED419105406</td>\n",
       "      <td>classic_bike</td>\n",
       "      <td>2022-01-04 00:18:04</td>\n",
       "      <td>2022-01-04 00:33:00</td>\n",
       "      <td>Clark St &amp; Bryn Mawr Ave</td>\n",
       "      <td>KA1504000151</td>\n",
       "      <td>Paulina St &amp; Montrose Ave</td>\n",
       "      <td>TA1309000021</td>\n",
       "      <td>casual</td>\n",
       "      <td>0 days 00:14:56</td>\n",
       "      <td>Jan</td>\n",
       "      <td>Tue</td>\n",
       "    </tr>\n",
       "    <tr>\n",
       "      <th>4</th>\n",
       "      <td>DDC963BFDDA51EEA</td>\n",
       "      <td>classic_bike</td>\n",
       "      <td>2022-01-20 01:31:10</td>\n",
       "      <td>2022-01-20 01:37:12</td>\n",
       "      <td>Michigan Ave &amp; Jackson Blvd</td>\n",
       "      <td>TA1309000002</td>\n",
       "      <td>State St &amp; Randolph St</td>\n",
       "      <td>TA1305000029</td>\n",
       "      <td>member</td>\n",
       "      <td>0 days 00:06:02</td>\n",
       "      <td>Jan</td>\n",
       "      <td>Thu</td>\n",
       "    </tr>\n",
       "  </tbody>\n",
       "</table>\n",
       "</div>"
      ],
      "text/plain": [
       "            ride_id  rideable_type          started_at            ended_at  \\\n",
       "0  C2F7DD78E82EC875  electric_bike 2022-01-13 11:59:47 2022-01-13 12:02:44   \n",
       "1  A6CF8980A652D272  electric_bike 2022-01-10 08:41:56 2022-01-10 08:46:17   \n",
       "2  BD0F91DFF741C66D   classic_bike 2022-01-25 04:53:40 2022-01-25 04:58:01   \n",
       "3  CBB80ED419105406   classic_bike 2022-01-04 00:18:04 2022-01-04 00:33:00   \n",
       "4  DDC963BFDDA51EEA   classic_bike 2022-01-20 01:31:10 2022-01-20 01:37:12   \n",
       "\n",
       "              start_station_name start_station_id  \\\n",
       "0       Glenwood Ave & Touhy Ave              525   \n",
       "1       Glenwood Ave & Touhy Ave              525   \n",
       "2  Sheffield Ave & Fullerton Ave     TA1306000016   \n",
       "3       Clark St & Bryn Mawr Ave     KA1504000151   \n",
       "4    Michigan Ave & Jackson Blvd     TA1309000002   \n",
       "\n",
       "                end_station_name end_station_id member_casual     ride_length  \\\n",
       "0           Clark St & Touhy Ave         RP-007        casual 0 days 00:02:57   \n",
       "1           Clark St & Touhy Ave         RP-007        casual 0 days 00:04:21   \n",
       "2  Greenview Ave & Fullerton Ave   TA1307000001        member 0 days 00:04:21   \n",
       "3      Paulina St & Montrose Ave   TA1309000021        casual 0 days 00:14:56   \n",
       "4         State St & Randolph St   TA1305000029        member 0 days 00:06:02   \n",
       "\n",
       "  month  day  \n",
       "0   Jan  Thu  \n",
       "1   Jan  Mon  \n",
       "2   Jan  Tue  \n",
       "3   Jan  Tue  \n",
       "4   Jan  Thu  "
      ]
     },
     "execution_count": 23,
     "metadata": {},
     "output_type": "execute_result"
    }
   ],
   "source": [
    "tripdata.head()"
   ]
  },
  {
   "cell_type": "code",
   "execution_count": 24,
   "id": "c0fab373",
   "metadata": {},
   "outputs": [],
   "source": [
    "# Making sure about the days and months\n",
    "\n",
    "# tripdata['month'].nunique()\n",
    "# tripdata['month'].unique()\n",
    "# tripdata['day'].nunique()\n",
    "# tripdata['day'].unique()"
   ]
  },
  {
   "cell_type": "code",
   "execution_count": 25,
   "id": "1fa5642c",
   "metadata": {},
   "outputs": [],
   "source": [
    "# Sorting all the records based on the date and time of the ride start\n",
    "\n",
    "tripdata.sort_values(by=['started_at'], inplace=True)"
   ]
  },
  {
   "cell_type": "code",
   "execution_count": 26,
   "id": "ee7026d7",
   "metadata": {},
   "outputs": [
    {
     "data": {
      "text/plain": [
       "73479     2022-01-01 00:00:05\n",
       "68510     2022-01-01 00:01:00\n",
       "64490     2022-01-01 00:01:16\n",
       "73485     2022-01-01 00:02:14\n",
       "73478     2022-01-01 00:02:35\n",
       "                  ...        \n",
       "5490051   2022-12-31 23:57:18\n",
       "5652875   2022-12-31 23:58:01\n",
       "5634763   2022-12-31 23:58:41\n",
       "5634907   2022-12-31 23:59:01\n",
       "5582591   2022-12-31 23:59:26\n",
       "Name: started_at, Length: 5667186, dtype: datetime64[ns]"
      ]
     },
     "execution_count": 26,
     "metadata": {},
     "output_type": "execute_result"
    }
   ],
   "source": [
    "tripdata['started_at']"
   ]
  },
  {
   "cell_type": "code",
   "execution_count": 27,
   "id": "ea165ba2",
   "metadata": {},
   "outputs": [
    {
     "data": {
      "text/plain": [
       "ride_id                    0\n",
       "rideable_type              0\n",
       "started_at                 0\n",
       "ended_at                   0\n",
       "start_station_name    833038\n",
       "start_station_id      833038\n",
       "end_station_name      892536\n",
       "end_station_id        892536\n",
       "member_casual              0\n",
       "ride_length                0\n",
       "month                      0\n",
       "day                        0\n",
       "dtype: int64"
      ]
     },
     "execution_count": 27,
     "metadata": {},
     "output_type": "execute_result"
    }
   ],
   "source": [
    "# Finding missing values\n",
    "\n",
    "tripdata.isnull().sum()"
   ]
  },
  {
   "cell_type": "code",
   "execution_count": 28,
   "id": "3e20a989",
   "metadata": {},
   "outputs": [
    {
     "data": {
      "text/plain": [
       "427440"
      ]
     },
     "execution_count": 28,
     "metadata": {},
     "output_type": "execute_result"
    }
   ],
   "source": [
    "null_rows = tripdata[tripdata['start_station_name'].isnull() & tripdata['end_station_name'].isnull()]\n",
    "null_rows['ride_id'].count()"
   ]
  },
  {
   "cell_type": "markdown",
   "id": "f354818c",
   "metadata": {},
   "source": [
    "In my analysis, I am going to work with the date and time as well as the user and the bike type related to each ride. Therefore, those missing values, which all are located in other columns, can not do any harm. This has this advantage that we would still run our analysis on the whole dataset, instead of around 77% of it. (Because around 23% of the rows include those null values)\n",
    "<br>(833038-427440) + 427440 + (892536-427440) / 5617186 ~ 23%"
   ]
  },
  {
   "cell_type": "code",
   "execution_count": 29,
   "id": "f1600bfc",
   "metadata": {},
   "outputs": [],
   "source": [
    "# Converting the 'ride_length' column from timedelta64 dtype to a number (e.g. in form of minutes and hours)\n",
    "\n",
    "tripdata['ride_length_min'] = tripdata['ride_length'].dt.total_seconds() / 60\n",
    "tripdata['ride_length_hr'] = tripdata['ride_length'].dt.total_seconds() / 3600"
   ]
  },
  {
   "cell_type": "code",
   "execution_count": 30,
   "id": "a8d37b48",
   "metadata": {},
   "outputs": [
    {
     "data": {
      "text/html": [
       "<div>\n",
       "<style scoped>\n",
       "    .dataframe tbody tr th:only-of-type {\n",
       "        vertical-align: middle;\n",
       "    }\n",
       "\n",
       "    .dataframe tbody tr th {\n",
       "        vertical-align: top;\n",
       "    }\n",
       "\n",
       "    .dataframe thead th {\n",
       "        text-align: right;\n",
       "    }\n",
       "</style>\n",
       "<table border=\"1\" class=\"dataframe\">\n",
       "  <thead>\n",
       "    <tr style=\"text-align: right;\">\n",
       "      <th></th>\n",
       "      <th>ride_id</th>\n",
       "      <th>rideable_type</th>\n",
       "      <th>started_at</th>\n",
       "      <th>ended_at</th>\n",
       "      <th>start_station_name</th>\n",
       "      <th>start_station_id</th>\n",
       "      <th>end_station_name</th>\n",
       "      <th>end_station_id</th>\n",
       "      <th>member_casual</th>\n",
       "      <th>ride_length</th>\n",
       "      <th>month</th>\n",
       "      <th>day</th>\n",
       "      <th>ride_length_min</th>\n",
       "      <th>ride_length_hr</th>\n",
       "    </tr>\n",
       "  </thead>\n",
       "  <tbody>\n",
       "    <tr>\n",
       "      <th>73479</th>\n",
       "      <td>98D355D9A9852BE9</td>\n",
       "      <td>classic_bike</td>\n",
       "      <td>2022-01-01 00:00:05</td>\n",
       "      <td>2022-01-01 00:01:48</td>\n",
       "      <td>Michigan Ave &amp; 8th St</td>\n",
       "      <td>623</td>\n",
       "      <td>Michigan Ave &amp; 8th St</td>\n",
       "      <td>623</td>\n",
       "      <td>casual</td>\n",
       "      <td>0 days 00:01:43</td>\n",
       "      <td>Jan</td>\n",
       "      <td>Sat</td>\n",
       "      <td>1.716667</td>\n",
       "      <td>0.028611</td>\n",
       "    </tr>\n",
       "    <tr>\n",
       "      <th>68510</th>\n",
       "      <td>04706CA7F5BD25EE</td>\n",
       "      <td>electric_bike</td>\n",
       "      <td>2022-01-01 00:01:00</td>\n",
       "      <td>2022-01-01 00:04:39</td>\n",
       "      <td>Broadway &amp; Waveland Ave</td>\n",
       "      <td>13325</td>\n",
       "      <td>Broadway &amp; Barry Ave</td>\n",
       "      <td>13137</td>\n",
       "      <td>casual</td>\n",
       "      <td>0 days 00:03:39</td>\n",
       "      <td>Jan</td>\n",
       "      <td>Sat</td>\n",
       "      <td>3.650000</td>\n",
       "      <td>0.060833</td>\n",
       "    </tr>\n",
       "    <tr>\n",
       "      <th>64490</th>\n",
       "      <td>42178E850B92597A</td>\n",
       "      <td>electric_bike</td>\n",
       "      <td>2022-01-01 00:01:16</td>\n",
       "      <td>2022-01-01 00:32:14</td>\n",
       "      <td>Clark St &amp; Ida B Wells Dr</td>\n",
       "      <td>TA1305000009</td>\n",
       "      <td>Clark St &amp; Ida B Wells Dr</td>\n",
       "      <td>TA1305000009</td>\n",
       "      <td>casual</td>\n",
       "      <td>0 days 00:30:58</td>\n",
       "      <td>Jan</td>\n",
       "      <td>Sat</td>\n",
       "      <td>30.966667</td>\n",
       "      <td>0.516111</td>\n",
       "    </tr>\n",
       "    <tr>\n",
       "      <th>73485</th>\n",
       "      <td>6B93C46E8F5B114C</td>\n",
       "      <td>classic_bike</td>\n",
       "      <td>2022-01-01 00:02:14</td>\n",
       "      <td>2022-01-01 00:31:07</td>\n",
       "      <td>Michigan Ave &amp; 8th St</td>\n",
       "      <td>623</td>\n",
       "      <td>Michigan Ave &amp; 8th St</td>\n",
       "      <td>623</td>\n",
       "      <td>casual</td>\n",
       "      <td>0 days 00:28:53</td>\n",
       "      <td>Jan</td>\n",
       "      <td>Sat</td>\n",
       "      <td>28.883333</td>\n",
       "      <td>0.481389</td>\n",
       "    </tr>\n",
       "    <tr>\n",
       "      <th>73478</th>\n",
       "      <td>466943353EAC8022</td>\n",
       "      <td>classic_bike</td>\n",
       "      <td>2022-01-01 00:02:35</td>\n",
       "      <td>2022-01-01 00:31:04</td>\n",
       "      <td>Michigan Ave &amp; 8th St</td>\n",
       "      <td>623</td>\n",
       "      <td>Michigan Ave &amp; 8th St</td>\n",
       "      <td>623</td>\n",
       "      <td>casual</td>\n",
       "      <td>0 days 00:28:29</td>\n",
       "      <td>Jan</td>\n",
       "      <td>Sat</td>\n",
       "      <td>28.483333</td>\n",
       "      <td>0.474722</td>\n",
       "    </tr>\n",
       "  </tbody>\n",
       "</table>\n",
       "</div>"
      ],
      "text/plain": [
       "                ride_id  rideable_type          started_at  \\\n",
       "73479  98D355D9A9852BE9   classic_bike 2022-01-01 00:00:05   \n",
       "68510  04706CA7F5BD25EE  electric_bike 2022-01-01 00:01:00   \n",
       "64490  42178E850B92597A  electric_bike 2022-01-01 00:01:16   \n",
       "73485  6B93C46E8F5B114C   classic_bike 2022-01-01 00:02:14   \n",
       "73478  466943353EAC8022   classic_bike 2022-01-01 00:02:35   \n",
       "\n",
       "                 ended_at         start_station_name start_station_id  \\\n",
       "73479 2022-01-01 00:01:48      Michigan Ave & 8th St              623   \n",
       "68510 2022-01-01 00:04:39    Broadway & Waveland Ave            13325   \n",
       "64490 2022-01-01 00:32:14  Clark St & Ida B Wells Dr     TA1305000009   \n",
       "73485 2022-01-01 00:31:07      Michigan Ave & 8th St              623   \n",
       "73478 2022-01-01 00:31:04      Michigan Ave & 8th St              623   \n",
       "\n",
       "                end_station_name end_station_id member_casual     ride_length  \\\n",
       "73479      Michigan Ave & 8th St            623        casual 0 days 00:01:43   \n",
       "68510       Broadway & Barry Ave          13137        casual 0 days 00:03:39   \n",
       "64490  Clark St & Ida B Wells Dr   TA1305000009        casual 0 days 00:30:58   \n",
       "73485      Michigan Ave & 8th St            623        casual 0 days 00:28:53   \n",
       "73478      Michigan Ave & 8th St            623        casual 0 days 00:28:29   \n",
       "\n",
       "      month  day  ride_length_min  ride_length_hr  \n",
       "73479   Jan  Sat         1.716667        0.028611  \n",
       "68510   Jan  Sat         3.650000        0.060833  \n",
       "64490   Jan  Sat        30.966667        0.516111  \n",
       "73485   Jan  Sat        28.883333        0.481389  \n",
       "73478   Jan  Sat        28.483333        0.474722  "
      ]
     },
     "execution_count": 30,
     "metadata": {},
     "output_type": "execute_result"
    }
   ],
   "source": [
    "tripdata.head()"
   ]
  },
  {
   "cell_type": "code",
   "execution_count": 31,
   "id": "bc77b45d",
   "metadata": {},
   "outputs": [],
   "source": [
    "# I think the data processing is almost done. We can go ahead and do the analysis. Before that, I make another backup\n",
    "# after the cleaning step (ac: after cleaning)\n",
    "\n",
    "# tripdata.to_csv('2022-divvy-tripdata-backup-ac.csv')"
   ]
  },
  {
   "cell_type": "markdown",
   "id": "2155080c",
   "metadata": {},
   "source": [
    "## Phase 4: Analyze\n",
    "### 4.1. Analyzing and sharing\n"
   ]
  },
  {
   "cell_type": "code",
   "execution_count": 32,
   "id": "e8b3aa10",
   "metadata": {},
   "outputs": [
    {
     "data": {
      "text/html": [
       "<div>\n",
       "<style scoped>\n",
       "    .dataframe tbody tr th:only-of-type {\n",
       "        vertical-align: middle;\n",
       "    }\n",
       "\n",
       "    .dataframe tbody tr th {\n",
       "        vertical-align: top;\n",
       "    }\n",
       "\n",
       "    .dataframe thead th {\n",
       "        text-align: right;\n",
       "    }\n",
       "</style>\n",
       "<table border=\"1\" class=\"dataframe\">\n",
       "  <thead>\n",
       "    <tr style=\"text-align: right;\">\n",
       "      <th></th>\n",
       "      <th>count</th>\n",
       "      <th>min</th>\n",
       "      <th>max</th>\n",
       "      <th>mean</th>\n",
       "      <th>median</th>\n",
       "      <th>sum</th>\n",
       "    </tr>\n",
       "    <tr>\n",
       "      <th>member_casual</th>\n",
       "      <th></th>\n",
       "      <th></th>\n",
       "      <th></th>\n",
       "      <th></th>\n",
       "      <th></th>\n",
       "      <th></th>\n",
       "    </tr>\n",
       "  </thead>\n",
       "  <tbody>\n",
       "    <tr>\n",
       "      <th>casual</th>\n",
       "      <td>2321769</td>\n",
       "      <td>0.016667</td>\n",
       "      <td>41387.25</td>\n",
       "      <td>29.148333</td>\n",
       "      <td>13.000000</td>\n",
       "      <td>6.767570e+07</td>\n",
       "    </tr>\n",
       "    <tr>\n",
       "      <th>member</th>\n",
       "      <td>3345417</td>\n",
       "      <td>0.016667</td>\n",
       "      <td>1559.90</td>\n",
       "      <td>12.714858</td>\n",
       "      <td>8.833333</td>\n",
       "      <td>4.253650e+07</td>\n",
       "    </tr>\n",
       "  </tbody>\n",
       "</table>\n",
       "</div>"
      ],
      "text/plain": [
       "                 count       min       max       mean     median           sum\n",
       "member_casual                                                                 \n",
       "casual         2321769  0.016667  41387.25  29.148333  13.000000  6.767570e+07\n",
       "member         3345417  0.016667   1559.90  12.714858   8.833333  4.253650e+07"
      ]
     },
     "execution_count": 32,
     "metadata": {},
     "output_type": "execute_result"
    }
   ],
   "source": [
    "# Getting some aggregated information about each member categories\n",
    "\n",
    "tripdata.groupby('member_casual').ride_length_min.agg(['count', 'min', 'max', 'mean', 'median', 'sum'])"
   ]
  },
  {
   "cell_type": "markdown",
   "id": "95b5f1d1",
   "metadata": {},
   "source": [
    "First glance reveals that:\n",
    "<br>a) Ride counts done by members is higher than that of casual riders.\n",
    "<br>b) The length of ride done by members is shorter than that of casual riders.\n",
    "<br>c) There are some records showing very long rides in order of days. These can be seen as outliers. The difference between median and mean also confirm this. However, I keep those outliers and do the analysis anyway."
   ]
  },
  {
   "cell_type": "code",
   "execution_count": 33,
   "id": "adf6b67b",
   "metadata": {},
   "outputs": [
    {
     "data": {
      "text/plain": [
       "Text(0.5, 1.0, 'Member vs. Casual trips (counts and duration)')"
      ]
     },
     "execution_count": 33,
     "metadata": {},
     "output_type": "execute_result"
    },
    {
     "data": {
      "image/png": "[encoded data removed]",
      "text/plain": [
       "<Figure size 640x480 with 1 Axes>"
      ]
     },
     "metadata": {},
     "output_type": "display_data"
    }
   ],
   "source": [
    "# Visualizing total ride counts and ride length of two user types: members and casuals riders. Despite the fact that\n",
    "# these two have different units, visualizing them in one graph will only demonstrate how different they are.\n",
    "\n",
    "tripdata.groupby('member_casual').ride_length_hr.agg(['count', 'sum']).plot(kind='bar', stacked=False)\n",
    "\n",
    "# Set plot labels and title\n",
    "plt.xlabel('User type')\n",
    "plt.ylabel('Total ride counts & duration')\n",
    "plt.title('Member vs. Casual trips (counts and duration)')"
   ]
  },
  {
   "cell_type": "code",
   "execution_count": 34,
   "id": "a51bdc95",
   "metadata": {},
   "outputs": [
    {
     "data": {
      "text/html": [
       "<div>\n",
       "<style scoped>\n",
       "    .dataframe tbody tr th:only-of-type {\n",
       "        vertical-align: middle;\n",
       "    }\n",
       "\n",
       "    .dataframe tbody tr th {\n",
       "        vertical-align: top;\n",
       "    }\n",
       "\n",
       "    .dataframe thead th {\n",
       "        text-align: right;\n",
       "    }\n",
       "</style>\n",
       "<table border=\"1\" class=\"dataframe\">\n",
       "  <thead>\n",
       "    <tr style=\"text-align: right;\">\n",
       "      <th></th>\n",
       "      <th></th>\n",
       "      <th>value_counts</th>\n",
       "    </tr>\n",
       "    <tr>\n",
       "      <th>day</th>\n",
       "      <th>member_casual</th>\n",
       "      <th></th>\n",
       "    </tr>\n",
       "  </thead>\n",
       "  <tbody>\n",
       "    <tr>\n",
       "      <th rowspan=\"2\" valign=\"top\">Fri</th>\n",
       "      <th>member</th>\n",
       "      <td>467051</td>\n",
       "    </tr>\n",
       "    <tr>\n",
       "      <th>casual</th>\n",
       "      <td>334667</td>\n",
       "    </tr>\n",
       "    <tr>\n",
       "      <th rowspan=\"2\" valign=\"top\">Mon</th>\n",
       "      <th>member</th>\n",
       "      <td>473305</td>\n",
       "    </tr>\n",
       "    <tr>\n",
       "      <th>casual</th>\n",
       "      <td>277649</td>\n",
       "    </tr>\n",
       "    <tr>\n",
       "      <th rowspan=\"2\" valign=\"top\">Sat</th>\n",
       "      <th>casual</th>\n",
       "      <td>473130</td>\n",
       "    </tr>\n",
       "    <tr>\n",
       "      <th>member</th>\n",
       "      <td>443246</td>\n",
       "    </tr>\n",
       "    <tr>\n",
       "      <th rowspan=\"2\" valign=\"top\">Sun</th>\n",
       "      <th>casual</th>\n",
       "      <td>388981</td>\n",
       "    </tr>\n",
       "    <tr>\n",
       "      <th>member</th>\n",
       "      <td>387180</td>\n",
       "    </tr>\n",
       "    <tr>\n",
       "      <th rowspan=\"2\" valign=\"top\">Thu</th>\n",
       "      <th>member</th>\n",
       "      <td>532215</td>\n",
       "    </tr>\n",
       "    <tr>\n",
       "      <th>casual</th>\n",
       "      <td>309297</td>\n",
       "    </tr>\n",
       "    <tr>\n",
       "      <th rowspan=\"2\" valign=\"top\">Tue</th>\n",
       "      <th>member</th>\n",
       "      <td>518584</td>\n",
       "    </tr>\n",
       "    <tr>\n",
       "      <th>casual</th>\n",
       "      <td>263706</td>\n",
       "    </tr>\n",
       "    <tr>\n",
       "      <th rowspan=\"2\" valign=\"top\">Wed</th>\n",
       "      <th>member</th>\n",
       "      <td>523836</td>\n",
       "    </tr>\n",
       "    <tr>\n",
       "      <th>casual</th>\n",
       "      <td>274339</td>\n",
       "    </tr>\n",
       "  </tbody>\n",
       "</table>\n",
       "</div>"
      ],
      "text/plain": [
       "                   value_counts\n",
       "day member_casual              \n",
       "Fri member               467051\n",
       "    casual               334667\n",
       "Mon member               473305\n",
       "    casual               277649\n",
       "Sat casual               473130\n",
       "    member               443246\n",
       "Sun casual               388981\n",
       "    member               387180\n",
       "Thu member               532215\n",
       "    casual               309297\n",
       "Tue member               518584\n",
       "    casual               263706\n",
       "Wed member               523836\n",
       "    casual               274339"
      ]
     },
     "execution_count": 34,
     "metadata": {},
     "output_type": "execute_result"
    }
   ],
   "source": [
    "# distribution of the rides done by users on weekdays\n",
    "\n",
    "tripdata.groupby(['day']).member_casual.agg(['value_counts'])"
   ]
  },
  {
   "cell_type": "code",
   "execution_count": 35,
   "id": "f1dcf13a",
   "metadata": {},
   "outputs": [],
   "source": [
    "# Reorder the weekdays, typecast the 'day' column to a categorical one\n",
    "\n",
    "weekdays = ['Mon', 'Tue', 'Wed', 'Thu', 'Fri', 'Sat', 'Sun']\n",
    "tripdata['day'] = pd.Categorical(tripdata['day'], categories=weekdays, ordered=True)"
   ]
  },
  {
   "cell_type": "code",
   "execution_count": 36,
   "id": "f9be01cc",
   "metadata": {},
   "outputs": [
    {
     "data": {
      "image/png": "[encoded data removed]",
      "text/plain": [
       "<Figure size 640x480 with 1 Axes>"
      ]
     },
     "metadata": {},
     "output_type": "display_data"
    }
   ],
   "source": [
    "# Create the grouped bar plot with stacked=False to show two bars side by side for each day\n",
    "tripdata.groupby(['day', 'member_casual']).size().unstack().plot(kind='bar', stacked=False)\n",
    "\n",
    "# Set plot labels and title\n",
    "plt.xlabel('Weekdays')\n",
    "plt.ylabel('Ride counts')\n",
    "plt.title('Member vs. Casual ride counts during weekdays')\n",
    "\n",
    "# Show the plot\n",
    "plt.show()"
   ]
  },
  {
   "cell_type": "markdown",
   "id": "ed03b29e",
   "metadata": {},
   "source": [
    "This graph depicts this fact that members take the rides way more often than the casuals during weekdays and they do it in an almost steady rate with some minor fluctuations. This goes down on weekends. On the other hand, the number of rides done by casuals peak on weekends while they are way lower than members rides during weekdays.\n",
    "<br>Now, it could be helpful if we have a look at how long members and casuals use cyclistic bikes on average during a week.\n",
    "\n",
    "<br>**Important Note:** As explained before, there seems to be outliers in the data. I did not remove them, however, I will consider the median for my analysis to be on the safe side. Those outliers would potentially skew the whole result.  "
   ]
  },
  {
   "cell_type": "code",
   "execution_count": 37,
   "id": "8e5977d3",
   "metadata": {},
   "outputs": [
    {
     "data": {
      "text/html": [
       "<div>\n",
       "<style scoped>\n",
       "    .dataframe tbody tr th:only-of-type {\n",
       "        vertical-align: middle;\n",
       "    }\n",
       "\n",
       "    .dataframe tbody tr th {\n",
       "        vertical-align: top;\n",
       "    }\n",
       "\n",
       "    .dataframe thead th {\n",
       "        text-align: right;\n",
       "    }\n",
       "</style>\n",
       "<table border=\"1\" class=\"dataframe\">\n",
       "  <thead>\n",
       "    <tr style=\"text-align: right;\">\n",
       "      <th></th>\n",
       "      <th></th>\n",
       "      <th>median</th>\n",
       "    </tr>\n",
       "    <tr>\n",
       "      <th>day</th>\n",
       "      <th>member_casual</th>\n",
       "      <th></th>\n",
       "    </tr>\n",
       "  </thead>\n",
       "  <tbody>\n",
       "    <tr>\n",
       "      <th rowspan=\"2\" valign=\"top\">Mon</th>\n",
       "      <th>casual</th>\n",
       "      <td>12.866667</td>\n",
       "    </tr>\n",
       "    <tr>\n",
       "      <th>member</th>\n",
       "      <td>8.450000</td>\n",
       "    </tr>\n",
       "    <tr>\n",
       "      <th rowspan=\"2\" valign=\"top\">Tue</th>\n",
       "      <th>casual</th>\n",
       "      <td>11.533333</td>\n",
       "    </tr>\n",
       "    <tr>\n",
       "      <th>member</th>\n",
       "      <td>8.483333</td>\n",
       "    </tr>\n",
       "    <tr>\n",
       "      <th rowspan=\"2\" valign=\"top\">Wed</th>\n",
       "      <th>casual</th>\n",
       "      <td>11.433333</td>\n",
       "    </tr>\n",
       "    <tr>\n",
       "      <th>member</th>\n",
       "      <td>8.583333</td>\n",
       "    </tr>\n",
       "    <tr>\n",
       "      <th rowspan=\"2\" valign=\"top\">Thu</th>\n",
       "      <th>casual</th>\n",
       "      <td>11.750000</td>\n",
       "    </tr>\n",
       "    <tr>\n",
       "      <th>member</th>\n",
       "      <td>8.666667</td>\n",
       "    </tr>\n",
       "    <tr>\n",
       "      <th rowspan=\"2\" valign=\"top\">Fri</th>\n",
       "      <th>casual</th>\n",
       "      <td>12.466667</td>\n",
       "    </tr>\n",
       "    <tr>\n",
       "      <th>member</th>\n",
       "      <td>8.716667</td>\n",
       "    </tr>\n",
       "    <tr>\n",
       "      <th rowspan=\"2\" valign=\"top\">Sat</th>\n",
       "      <th>casual</th>\n",
       "      <td>14.966667</td>\n",
       "    </tr>\n",
       "    <tr>\n",
       "      <th>member</th>\n",
       "      <td>9.800000</td>\n",
       "    </tr>\n",
       "    <tr>\n",
       "      <th rowspan=\"2\" valign=\"top\">Sun</th>\n",
       "      <th>casual</th>\n",
       "      <td>15.016667</td>\n",
       "    </tr>\n",
       "    <tr>\n",
       "      <th>member</th>\n",
       "      <td>9.550000</td>\n",
       "    </tr>\n",
       "  </tbody>\n",
       "</table>\n",
       "</div>"
      ],
      "text/plain": [
       "                      median\n",
       "day member_casual           \n",
       "Mon casual         12.866667\n",
       "    member          8.450000\n",
       "Tue casual         11.533333\n",
       "    member          8.483333\n",
       "Wed casual         11.433333\n",
       "    member          8.583333\n",
       "Thu casual         11.750000\n",
       "    member          8.666667\n",
       "Fri casual         12.466667\n",
       "    member          8.716667\n",
       "Sat casual         14.966667\n",
       "    member          9.800000\n",
       "Sun casual         15.016667\n",
       "    member          9.550000"
      ]
     },
     "execution_count": 37,
     "metadata": {},
     "output_type": "execute_result"
    }
   ],
   "source": [
    "tripdata.groupby(['day', 'member_casual']).ride_length_min.agg(['median'])"
   ]
  },
  {
   "cell_type": "code",
   "execution_count": 38,
   "id": "64980249",
   "metadata": {},
   "outputs": [
    {
     "data": {
      "text/plain": [
       "Text(0.5, 1.0, 'Member vs. Casual trips duration during weekdays')"
      ]
     },
     "execution_count": 38,
     "metadata": {},
     "output_type": "execute_result"
    },
    {
     "data": {
      "image/png": "[encoded data removed]",
      "text/plain": [
       "<Figure size 640x480 with 1 Axes>"
      ]
     },
     "metadata": {},
     "output_type": "display_data"
    }
   ],
   "source": [
    "# Create the grouped bar plot with stacked=False to show two bars side by side for each day\n",
    "tripdata.groupby(['day', 'member_casual']).ride_length_min.median().unstack().plot(kind='bar', stacked=False)\n",
    "\n",
    "# Set plot labels and title\n",
    "plt.xlabel('Day of the Week')\n",
    "plt.ylabel('Ride length (minutes)')\n",
    "plt.title('Member vs. Casual trips duration during weekdays')"
   ]
  },
  {
   "cell_type": "markdown",
   "id": "377e7809",
   "metadata": {},
   "source": [
    "The upper graph shows that members use the bikes at a relatively constant rate on average during the weekdays, and only in weekends that the trend experiences a slight increase. This confirms the idea that members are mostly using the bikes to commute to work. \n",
    "<br>For casual riders, it is different a bit. It is true that the number of time they use the bikes is lower than members, but they use them longer! The trend experiences the longest rides for casuals at weekends, as expected.\n",
    "<br>Now, we will have a look at the trends over the months; from January to December of 2022."
   ]
  },
  {
   "cell_type": "code",
   "execution_count": 39,
   "id": "ec5769fa",
   "metadata": {},
   "outputs": [],
   "source": [
    "# Reorder the months, typecast the 'month' column to a categorical one\n",
    "\n",
    "month_order = ['Jan', 'Feb', 'Mar', 'Apr', 'May', 'Jun', 'Jul', 'Aug', 'Sep', 'Oct', 'Nov', 'Dec']\n",
    "tripdata['month'] = pd.Categorical(tripdata['month'], categories=month_order, ordered=True)"
   ]
  },
  {
   "cell_type": "code",
   "execution_count": 40,
   "id": "4d2dffb7",
   "metadata": {
    "scrolled": false
   },
   "outputs": [
    {
     "data": {
      "text/html": [
       "<div>\n",
       "<style scoped>\n",
       "    .dataframe tbody tr th:only-of-type {\n",
       "        vertical-align: middle;\n",
       "    }\n",
       "\n",
       "    .dataframe tbody tr th {\n",
       "        vertical-align: top;\n",
       "    }\n",
       "\n",
       "    .dataframe thead th {\n",
       "        text-align: right;\n",
       "    }\n",
       "</style>\n",
       "<table border=\"1\" class=\"dataframe\">\n",
       "  <thead>\n",
       "    <tr style=\"text-align: right;\">\n",
       "      <th></th>\n",
       "      <th></th>\n",
       "      <th>value_counts</th>\n",
       "    </tr>\n",
       "    <tr>\n",
       "      <th>month</th>\n",
       "      <th>member_casual</th>\n",
       "      <th></th>\n",
       "    </tr>\n",
       "  </thead>\n",
       "  <tbody>\n",
       "    <tr>\n",
       "      <th rowspan=\"2\" valign=\"top\">Jan</th>\n",
       "      <th>member</th>\n",
       "      <td>85248</td>\n",
       "    </tr>\n",
       "    <tr>\n",
       "      <th>casual</th>\n",
       "      <td>18517</td>\n",
       "    </tr>\n",
       "    <tr>\n",
       "      <th rowspan=\"2\" valign=\"top\">Feb</th>\n",
       "      <th>member</th>\n",
       "      <td>94190</td>\n",
       "    </tr>\n",
       "    <tr>\n",
       "      <th>casual</th>\n",
       "      <td>21414</td>\n",
       "    </tr>\n",
       "    <tr>\n",
       "      <th rowspan=\"2\" valign=\"top\">Mar</th>\n",
       "      <th>member</th>\n",
       "      <td>194150</td>\n",
       "    </tr>\n",
       "    <tr>\n",
       "      <th>casual</th>\n",
       "      <td>89874</td>\n",
       "    </tr>\n",
       "    <tr>\n",
       "      <th rowspan=\"2\" valign=\"top\">Apr</th>\n",
       "      <th>member</th>\n",
       "      <td>244820</td>\n",
       "    </tr>\n",
       "    <tr>\n",
       "      <th>casual</th>\n",
       "      <td>126398</td>\n",
       "    </tr>\n",
       "    <tr>\n",
       "      <th rowspan=\"2\" valign=\"top\">May</th>\n",
       "      <th>member</th>\n",
       "      <td>354423</td>\n",
       "    </tr>\n",
       "    <tr>\n",
       "      <th>casual</th>\n",
       "      <td>280387</td>\n",
       "    </tr>\n",
       "    <tr>\n",
       "      <th rowspan=\"2\" valign=\"top\">Jun</th>\n",
       "      <th>member</th>\n",
       "      <td>400116</td>\n",
       "    </tr>\n",
       "    <tr>\n",
       "      <th>casual</th>\n",
       "      <td>369022</td>\n",
       "    </tr>\n",
       "    <tr>\n",
       "      <th rowspan=\"2\" valign=\"top\">Jul</th>\n",
       "      <th>member</th>\n",
       "      <td>417403</td>\n",
       "    </tr>\n",
       "    <tr>\n",
       "      <th>casual</th>\n",
       "      <td>406013</td>\n",
       "    </tr>\n",
       "    <tr>\n",
       "      <th rowspan=\"2\" valign=\"top\">Aug</th>\n",
       "      <th>member</th>\n",
       "      <td>426969</td>\n",
       "    </tr>\n",
       "    <tr>\n",
       "      <th>casual</th>\n",
       "      <td>358886</td>\n",
       "    </tr>\n",
       "    <tr>\n",
       "      <th rowspan=\"2\" valign=\"top\">Sep</th>\n",
       "      <th>member</th>\n",
       "      <td>404603</td>\n",
       "    </tr>\n",
       "    <tr>\n",
       "      <th>casual</th>\n",
       "      <td>296664</td>\n",
       "    </tr>\n",
       "    <tr>\n",
       "      <th rowspan=\"2\" valign=\"top\">Oct</th>\n",
       "      <th>member</th>\n",
       "      <td>349659</td>\n",
       "    </tr>\n",
       "    <tr>\n",
       "      <th>casual</th>\n",
       "      <td>208961</td>\n",
       "    </tr>\n",
       "    <tr>\n",
       "      <th rowspan=\"2\" valign=\"top\">Nov</th>\n",
       "      <th>member</th>\n",
       "      <td>236935</td>\n",
       "    </tr>\n",
       "    <tr>\n",
       "      <th>casual</th>\n",
       "      <td>100742</td>\n",
       "    </tr>\n",
       "    <tr>\n",
       "      <th rowspan=\"2\" valign=\"top\">Dec</th>\n",
       "      <th>member</th>\n",
       "      <td>136901</td>\n",
       "    </tr>\n",
       "    <tr>\n",
       "      <th>casual</th>\n",
       "      <td>44891</td>\n",
       "    </tr>\n",
       "  </tbody>\n",
       "</table>\n",
       "</div>"
      ],
      "text/plain": [
       "                     value_counts\n",
       "month member_casual              \n",
       "Jan   member                85248\n",
       "      casual                18517\n",
       "Feb   member                94190\n",
       "      casual                21414\n",
       "Mar   member               194150\n",
       "      casual                89874\n",
       "Apr   member               244820\n",
       "      casual               126398\n",
       "May   member               354423\n",
       "      casual               280387\n",
       "Jun   member               400116\n",
       "      casual               369022\n",
       "Jul   member               417403\n",
       "      casual               406013\n",
       "Aug   member               426969\n",
       "      casual               358886\n",
       "Sep   member               404603\n",
       "      casual               296664\n",
       "Oct   member               349659\n",
       "      casual               208961\n",
       "Nov   member               236935\n",
       "      casual               100742\n",
       "Dec   member               136901\n",
       "      casual                44891"
      ]
     },
     "execution_count": 40,
     "metadata": {},
     "output_type": "execute_result"
    }
   ],
   "source": [
    "tripdata.groupby(['month']).member_casual.agg(['value_counts'])"
   ]
  },
  {
   "cell_type": "code",
   "execution_count": 41,
   "id": "c0108366",
   "metadata": {
    "scrolled": false
   },
   "outputs": [
    {
     "data": {
      "image/png": "[encoded data removed]",
      "text/plain": [
       "<Figure size 640x480 with 1 Axes>"
      ]
     },
     "metadata": {},
     "output_type": "display_data"
    }
   ],
   "source": [
    "# Create the grouped bar plot with stacked=False to show two bars side by side for each day\n",
    "tripdata.groupby(['month', 'member_casual']).size().unstack().plot(kind='bar', stacked=False)\n",
    "\n",
    "# Set plot labels and title\n",
    "plt.xlabel('2022')\n",
    "plt.ylabel('Ride counts')\n",
    "plt.title('Member vs. Casual ride counts over the year 2022')\n",
    "\n",
    "# Show the plot\n",
    "plt.show()"
   ]
  },
  {
   "cell_type": "markdown",
   "id": "edf1d369",
   "metadata": {},
   "source": [
    "This graph is showing the same pattern we saw earlier in the analyis we conducted on weekly basis. Casual riders use the bikes less than the members in terms of the number of time they use the service. The distance between the members and casuals are much higher in Fall and Winter and it is reduced in hot seasons. For both members and casual riders, there is this increasing trend from Winter towards the Summer and then downfalling towards end of the year. "
   ]
  },
  {
   "cell_type": "code",
   "execution_count": 42,
   "id": "afcf2748",
   "metadata": {},
   "outputs": [
    {
     "data": {
      "text/html": [
       "<div>\n",
       "<style scoped>\n",
       "    .dataframe tbody tr th:only-of-type {\n",
       "        vertical-align: middle;\n",
       "    }\n",
       "\n",
       "    .dataframe tbody tr th {\n",
       "        vertical-align: top;\n",
       "    }\n",
       "\n",
       "    .dataframe thead th {\n",
       "        text-align: right;\n",
       "    }\n",
       "</style>\n",
       "<table border=\"1\" class=\"dataframe\">\n",
       "  <thead>\n",
       "    <tr style=\"text-align: right;\">\n",
       "      <th></th>\n",
       "      <th></th>\n",
       "      <th>median</th>\n",
       "    </tr>\n",
       "    <tr>\n",
       "      <th>month</th>\n",
       "      <th>member_casual</th>\n",
       "      <th></th>\n",
       "    </tr>\n",
       "  </thead>\n",
       "  <tbody>\n",
       "    <tr>\n",
       "      <th rowspan=\"2\" valign=\"top\">Jan</th>\n",
       "      <th>casual</th>\n",
       "      <td>10.133333</td>\n",
       "    </tr>\n",
       "    <tr>\n",
       "      <th>member</th>\n",
       "      <td>7.483333</td>\n",
       "    </tr>\n",
       "    <tr>\n",
       "      <th rowspan=\"2\" valign=\"top\">Feb</th>\n",
       "      <th>casual</th>\n",
       "      <td>10.900000</td>\n",
       "    </tr>\n",
       "    <tr>\n",
       "      <th>member</th>\n",
       "      <td>7.516667</td>\n",
       "    </tr>\n",
       "    <tr>\n",
       "      <th rowspan=\"2\" valign=\"top\">Mar</th>\n",
       "      <th>casual</th>\n",
       "      <td>14.216667</td>\n",
       "    </tr>\n",
       "    <tr>\n",
       "      <th>member</th>\n",
       "      <td>8.033333</td>\n",
       "    </tr>\n",
       "    <tr>\n",
       "      <th rowspan=\"2\" valign=\"top\">Apr</th>\n",
       "      <th>casual</th>\n",
       "      <td>13.833333</td>\n",
       "    </tr>\n",
       "    <tr>\n",
       "      <th>member</th>\n",
       "      <td>7.883333</td>\n",
       "    </tr>\n",
       "    <tr>\n",
       "      <th rowspan=\"2\" valign=\"top\">May</th>\n",
       "      <th>casual</th>\n",
       "      <td>15.283333</td>\n",
       "    </tr>\n",
       "    <tr>\n",
       "      <th>member</th>\n",
       "      <td>9.383333</td>\n",
       "    </tr>\n",
       "    <tr>\n",
       "      <th rowspan=\"2\" valign=\"top\">Jun</th>\n",
       "      <th>casual</th>\n",
       "      <td>14.350000</td>\n",
       "    </tr>\n",
       "    <tr>\n",
       "      <th>member</th>\n",
       "      <td>10.033333</td>\n",
       "    </tr>\n",
       "    <tr>\n",
       "      <th rowspan=\"2\" valign=\"top\">Jul</th>\n",
       "      <th>casual</th>\n",
       "      <td>14.033333</td>\n",
       "    </tr>\n",
       "    <tr>\n",
       "      <th>member</th>\n",
       "      <td>9.900000</td>\n",
       "    </tr>\n",
       "    <tr>\n",
       "      <th rowspan=\"2\" valign=\"top\">Aug</th>\n",
       "      <th>casual</th>\n",
       "      <td>12.966667</td>\n",
       "    </tr>\n",
       "    <tr>\n",
       "      <th>member</th>\n",
       "      <td>9.600000</td>\n",
       "    </tr>\n",
       "    <tr>\n",
       "      <th rowspan=\"2\" valign=\"top\">Sep</th>\n",
       "      <th>casual</th>\n",
       "      <td>12.033333</td>\n",
       "    </tr>\n",
       "    <tr>\n",
       "      <th>member</th>\n",
       "      <td>9.100000</td>\n",
       "    </tr>\n",
       "    <tr>\n",
       "      <th rowspan=\"2\" valign=\"top\">Oct</th>\n",
       "      <th>casual</th>\n",
       "      <td>10.800000</td>\n",
       "    </tr>\n",
       "    <tr>\n",
       "      <th>member</th>\n",
       "      <td>8.100000</td>\n",
       "    </tr>\n",
       "    <tr>\n",
       "      <th rowspan=\"2\" valign=\"top\">Nov</th>\n",
       "      <th>casual</th>\n",
       "      <td>9.216667</td>\n",
       "    </tr>\n",
       "    <tr>\n",
       "      <th>member</th>\n",
       "      <td>7.633333</td>\n",
       "    </tr>\n",
       "    <tr>\n",
       "      <th rowspan=\"2\" valign=\"top\">Dec</th>\n",
       "      <th>casual</th>\n",
       "      <td>8.133333</td>\n",
       "    </tr>\n",
       "    <tr>\n",
       "      <th>member</th>\n",
       "      <td>7.250000</td>\n",
       "    </tr>\n",
       "  </tbody>\n",
       "</table>\n",
       "</div>"
      ],
      "text/plain": [
       "                        median\n",
       "month member_casual           \n",
       "Jan   casual         10.133333\n",
       "      member          7.483333\n",
       "Feb   casual         10.900000\n",
       "      member          7.516667\n",
       "Mar   casual         14.216667\n",
       "      member          8.033333\n",
       "Apr   casual         13.833333\n",
       "      member          7.883333\n",
       "May   casual         15.283333\n",
       "      member          9.383333\n",
       "Jun   casual         14.350000\n",
       "      member         10.033333\n",
       "Jul   casual         14.033333\n",
       "      member          9.900000\n",
       "Aug   casual         12.966667\n",
       "      member          9.600000\n",
       "Sep   casual         12.033333\n",
       "      member          9.100000\n",
       "Oct   casual         10.800000\n",
       "      member          8.100000\n",
       "Nov   casual          9.216667\n",
       "      member          7.633333\n",
       "Dec   casual          8.133333\n",
       "      member          7.250000"
      ]
     },
     "execution_count": 42,
     "metadata": {},
     "output_type": "execute_result"
    }
   ],
   "source": [
    "tripdata.groupby(['month', 'member_casual']).ride_length_min.agg(['median'])"
   ]
  },
  {
   "cell_type": "code",
   "execution_count": 43,
   "id": "095f2f89",
   "metadata": {},
   "outputs": [
    {
     "data": {
      "text/plain": [
       "Text(0.5, 1.0, 'Member vs. Casual trips duration over the year')"
      ]
     },
     "execution_count": 43,
     "metadata": {},
     "output_type": "execute_result"
    },
    {
     "data": {
      "image/png": "[encoded data removed]",
      "text/plain": [
       "<Figure size 640x480 with 1 Axes>"
      ]
     },
     "metadata": {},
     "output_type": "display_data"
    }
   ],
   "source": [
    "# Create the grouped bar plot with stacked=False to show two bars side by side for each day\n",
    "tripdata.groupby(['month', 'member_casual']).ride_length_min.median().unstack().plot(kind='bar', stacked=False)\n",
    "\n",
    "# Set plot labels and title\n",
    "plt.xlabel('2022')\n",
    "plt.ylabel('Ride length (minutes)')\n",
    "plt.title('Member vs. Casual trips duration over the year')"
   ]
  },
  {
   "cell_type": "markdown",
   "id": "7e23823a",
   "metadata": {},
   "source": [
    "Going through the details of the previous graph reveals that although casual riders do not use the bikes that often compared to members, they use the bikes much longer than members. Also, casual riders bike usage peak at Spring while members experience their longest rides in Summer. Nevertheless, both of them have an increasing trend at first and then decreasing one towards the end of the year.\n",
    "\n",
    "Now, we go through how differently members and casual riders use Cyclistic offered bike types. "
   ]
  },
  {
   "cell_type": "code",
   "execution_count": 44,
   "id": "bbf314de",
   "metadata": {},
   "outputs": [
    {
     "data": {
      "text/plain": [
       "member_casual  rideable_type\n",
       "casual         classic_bike      891406\n",
       "               docked_bike       177468\n",
       "               electric_bike    1252895\n",
       "member         classic_bike     1709682\n",
       "               electric_bike    1635735\n",
       "dtype: int64"
      ]
     },
     "execution_count": 44,
     "metadata": {},
     "output_type": "execute_result"
    }
   ],
   "source": [
    "# Summary of casual and member rides counts by bike type\n",
    "\n",
    "tripdata.groupby(['member_casual', 'rideable_type']).size()"
   ]
  },
  {
   "cell_type": "markdown",
   "id": "f5860e82",
   "metadata": {},
   "source": [
    "Or,"
   ]
  },
  {
   "cell_type": "code",
   "execution_count": 45,
   "id": "07be4818",
   "metadata": {},
   "outputs": [
    {
     "data": {
      "text/html": [
       "<div>\n",
       "<style scoped>\n",
       "    .dataframe tbody tr th:only-of-type {\n",
       "        vertical-align: middle;\n",
       "    }\n",
       "\n",
       "    .dataframe tbody tr th {\n",
       "        vertical-align: top;\n",
       "    }\n",
       "\n",
       "    .dataframe thead th {\n",
       "        text-align: right;\n",
       "    }\n",
       "</style>\n",
       "<table border=\"1\" class=\"dataframe\">\n",
       "  <thead>\n",
       "    <tr style=\"text-align: right;\">\n",
       "      <th></th>\n",
       "      <th></th>\n",
       "      <th>value_counts</th>\n",
       "    </tr>\n",
       "    <tr>\n",
       "      <th>member_casual</th>\n",
       "      <th>rideable_type</th>\n",
       "      <th></th>\n",
       "    </tr>\n",
       "  </thead>\n",
       "  <tbody>\n",
       "    <tr>\n",
       "      <th rowspan=\"3\" valign=\"top\">casual</th>\n",
       "      <th>electric_bike</th>\n",
       "      <td>1252895</td>\n",
       "    </tr>\n",
       "    <tr>\n",
       "      <th>classic_bike</th>\n",
       "      <td>891406</td>\n",
       "    </tr>\n",
       "    <tr>\n",
       "      <th>docked_bike</th>\n",
       "      <td>177468</td>\n",
       "    </tr>\n",
       "    <tr>\n",
       "      <th rowspan=\"2\" valign=\"top\">member</th>\n",
       "      <th>classic_bike</th>\n",
       "      <td>1709682</td>\n",
       "    </tr>\n",
       "    <tr>\n",
       "      <th>electric_bike</th>\n",
       "      <td>1635735</td>\n",
       "    </tr>\n",
       "  </tbody>\n",
       "</table>\n",
       "</div>"
      ],
      "text/plain": [
       "                             value_counts\n",
       "member_casual rideable_type              \n",
       "casual        electric_bike       1252895\n",
       "              classic_bike         891406\n",
       "              docked_bike          177468\n",
       "member        classic_bike        1709682\n",
       "              electric_bike       1635735"
      ]
     },
     "execution_count": 45,
     "metadata": {},
     "output_type": "execute_result"
    }
   ],
   "source": [
    "tripdata.groupby(['member_casual']).rideable_type.agg(['value_counts'])"
   ]
  },
  {
   "cell_type": "code",
   "execution_count": 46,
   "id": "20cbbbb1",
   "metadata": {},
   "outputs": [
    {
     "data": {
      "text/plain": [
       "Text(0.5, 1.0, 'Member vs. Casual trips counts using different bike types (2022)')"
      ]
     },
     "execution_count": 46,
     "metadata": {},
     "output_type": "execute_result"
    },
    {
     "data": {
      "image/png": "[encoded data removed]",
      "text/plain": [
       "<Figure size 640x480 with 1 Axes>"
      ]
     },
     "metadata": {},
     "output_type": "display_data"
    }
   ],
   "source": [
    "tripdata.groupby(['member_casual', 'rideable_type']).size().unstack().plot(kind='bar', stacked=True)\n",
    "\n",
    "# Set plot labels and title\n",
    "plt.xlabel('User type')\n",
    "plt.ylabel('Ride counts')\n",
    "plt.title('Member vs. Casual trips counts using different bike types (2022)')"
   ]
  },
  {
   "cell_type": "markdown",
   "id": "2696e2ef",
   "metadata": {},
   "source": [
    "This graph tells us that electric bikes are more preferable by casual riders than classic bikes. The next preference for casuals is classic bikes. Casuals also use docked bikes while members do not at all. "
   ]
  },
  {
   "cell_type": "code",
   "execution_count": 47,
   "id": "9ce5bce4",
   "metadata": {},
   "outputs": [
    {
     "data": {
      "text/plain": [
       "member_casual  rideable_type\n",
       "casual         classic_bike     14.566667\n",
       "               docked_bike      28.050000\n",
       "               electric_bike    10.933333\n",
       "member         classic_bike      9.400000\n",
       "               electric_bike     8.300000\n",
       "Name: ride_length_min, dtype: float64"
      ]
     },
     "execution_count": 47,
     "metadata": {},
     "output_type": "execute_result"
    }
   ],
   "source": [
    "tripdata.groupby(['member_casual', 'rideable_type'])['ride_length_min'].median()"
   ]
  },
  {
   "cell_type": "code",
   "execution_count": 48,
   "id": "cb0b17ba",
   "metadata": {},
   "outputs": [
    {
     "data": {
      "text/html": [
       "<div>\n",
       "<style scoped>\n",
       "    .dataframe tbody tr th:only-of-type {\n",
       "        vertical-align: middle;\n",
       "    }\n",
       "\n",
       "    .dataframe tbody tr th {\n",
       "        vertical-align: top;\n",
       "    }\n",
       "\n",
       "    .dataframe thead th {\n",
       "        text-align: right;\n",
       "    }\n",
       "</style>\n",
       "<table border=\"1\" class=\"dataframe\">\n",
       "  <thead>\n",
       "    <tr style=\"text-align: right;\">\n",
       "      <th>rideable_type</th>\n",
       "      <th>classic_bike</th>\n",
       "      <th>docked_bike</th>\n",
       "      <th>electric_bike</th>\n",
       "    </tr>\n",
       "    <tr>\n",
       "      <th>member_casual</th>\n",
       "      <th></th>\n",
       "      <th></th>\n",
       "      <th></th>\n",
       "    </tr>\n",
       "  </thead>\n",
       "  <tbody>\n",
       "    <tr>\n",
       "      <th>casual</th>\n",
       "      <td>14.566667</td>\n",
       "      <td>28.05</td>\n",
       "      <td>10.933333</td>\n",
       "    </tr>\n",
       "    <tr>\n",
       "      <th>member</th>\n",
       "      <td>9.400000</td>\n",
       "      <td>NaN</td>\n",
       "      <td>8.300000</td>\n",
       "    </tr>\n",
       "  </tbody>\n",
       "</table>\n",
       "</div>"
      ],
      "text/plain": [
       "rideable_type  classic_bike  docked_bike  electric_bike\n",
       "member_casual                                          \n",
       "casual            14.566667        28.05      10.933333\n",
       "member             9.400000          NaN       8.300000"
      ]
     },
     "execution_count": 48,
     "metadata": {},
     "output_type": "execute_result"
    }
   ],
   "source": [
    "tripdata.groupby(['member_casual', 'rideable_type'])['ride_length_min'].median().unstack()"
   ]
  },
  {
   "cell_type": "code",
   "execution_count": 49,
   "id": "465bd02d",
   "metadata": {},
   "outputs": [
    {
     "data": {
      "text/plain": [
       "Text(0.5, 1.0, 'Member vs. Casual trips duration using different bike types (2022)')"
      ]
     },
     "execution_count": 49,
     "metadata": {},
     "output_type": "execute_result"
    },
    {
     "data": {
      "image/png": "[encoded data removed]",
      "text/plain": [
       "<Figure size 640x480 with 1 Axes>"
      ]
     },
     "metadata": {},
     "output_type": "display_data"
    }
   ],
   "source": [
    "tripdata.groupby(['member_casual', 'rideable_type'])['ride_length_min'].median().unstack().plot(kind='bar', stacked=True)\n",
    "\n",
    "# Set plot labels and title\n",
    "plt.xlabel('User type')\n",
    "plt.ylabel('Ride duration')\n",
    "plt.title('Member vs. Casual trips duration using different bike types (2022)')"
   ]
  },
  {
   "cell_type": "markdown",
   "id": "684fa7d2",
   "metadata": {},
   "source": [
    "This graph tells us that casual riders are using the electric bikes a bit shorter than classic ones. Probably the reason behind that is related to the batteries and their charging capacities. However, the most interesting thing about this graph is the extensive usage of docked bikes by casual riders. They simply have the longest usage which should be considered by the marketing campaign. On the other side, we see the members who are using the classic and electric bikes equally. This reinforces this hypothesis that members are using the bikes mostly for commuting.  "
   ]
  },
  {
   "cell_type": "code",
   "execution_count": 50,
   "id": "860351e6",
   "metadata": {},
   "outputs": [
    {
     "data": {
      "text/plain": [
       "Text(0.5, 1.0, 'Member vs. Casual trips duration using different bike types (2022)')"
      ]
     },
     "execution_count": 50,
     "metadata": {},
     "output_type": "execute_result"
    },
    {
     "data": {
      "image/png": "[encoded data removed]",
      "text/plain": [
       "<Figure size 640x480 with 1 Axes>"
      ]
     },
     "metadata": {},
     "output_type": "display_data"
    }
   ],
   "source": [
    "tripdata.groupby(['member_casual', 'rideable_type'])['ride_length_min'].sum().unstack().plot(kind='bar', stacked=True)\n",
    "\n",
    "# Set plot labels and title\n",
    "plt.xlabel('User type')\n",
    "plt.ylabel('Ride duration')\n",
    "plt.title('Member vs. Casual trips duration using different bike types (2022)')"
   ]
  },
  {
   "cell_type": "markdown",
   "id": "9daff3ef",
   "metadata": {},
   "source": [
    "**Note:** This graph is exactly like the one before it, except that I used mean() instead of median(). It is noteworthy how different they are and how easy they can result in misunderstandings. It is obvious that the outliers we talked about earlier must be discussed with the team and the manager.\n",
    "\n",
    "In the following, I would like to seek anything worthy about how members and casuals use different types of bike during the week and throught the year."
   ]
  },
  {
   "cell_type": "code",
   "execution_count": 51,
   "id": "6ca6488b",
   "metadata": {},
   "outputs": [],
   "source": [
    "classic_bike = tripdata[tripdata['rideable_type'] == 'classic_bike']\n",
    "electric_bike = tripdata[tripdata['rideable_type'] == 'electric_bike']"
   ]
  },
  {
   "cell_type": "code",
   "execution_count": 52,
   "id": "263ab41e",
   "metadata": {},
   "outputs": [
    {
     "data": {
      "text/plain": [
       "Text(0.5, 1.0, 'Member vs. Casual trips duration over the year (2022) by classic bikes')"
      ]
     },
     "execution_count": 52,
     "metadata": {},
     "output_type": "execute_result"
    },
    {
     "data": {
      "image/png": "[encoded data removed]",
      "text/plain": [
       "<Figure size 640x480 with 1 Axes>"
      ]
     },
     "metadata": {},
     "output_type": "display_data"
    }
   ],
   "source": [
    "# Create the grouped bar plot with stacked=False to show two bars side by side for each day\n",
    "classic_bike.groupby(['month', 'member_casual'])['ride_length_min'].median().unstack().plot(kind='bar', stacked=False)\n",
    "\n",
    "# Set plot labels and title\n",
    "plt.xlabel('2022')\n",
    "plt.ylabel('Ride length (minutes)')\n",
    "plt.title('Member vs. Casual trips duration over the year (2022) by classic bikes')"
   ]
  },
  {
   "cell_type": "code",
   "execution_count": 53,
   "id": "4140eae5",
   "metadata": {},
   "outputs": [
    {
     "data": {
      "text/plain": [
       "Text(0.5, 1.0, 'Member vs. Casual trips duration over the year (2022) by electric bikes')"
      ]
     },
     "execution_count": 53,
     "metadata": {},
     "output_type": "execute_result"
    },
    {
     "data": {
      "image/png": "[encoded data removed]",
      "text/plain": [
       "<Figure size 640x480 with 1 Axes>"
      ]
     },
     "metadata": {},
     "output_type": "display_data"
    }
   ],
   "source": [
    "# Create the grouped bar plot with stacked=False to show two bars side by side for each day\n",
    "electric_bike.groupby(['month', 'member_casual'])['ride_length_min'].median().unstack().plot(kind='bar', stacked=False)\n",
    "\n",
    "# Set plot labels and title\n",
    "plt.xlabel('2022')\n",
    "plt.ylabel('Ride length (minutes)')\n",
    "plt.title('Member vs. Casual trips duration over the year (2022) by electric bikes')"
   ]
  },
  {
   "cell_type": "code",
   "execution_count": 54,
   "id": "d9571fd7",
   "metadata": {},
   "outputs": [
    {
     "data": {
      "text/plain": [
       "Text(0.5, 1.0, 'Member vs. Casual trips duration during the week (2022) by classic bikes')"
      ]
     },
     "execution_count": 54,
     "metadata": {},
     "output_type": "execute_result"
    },
    {
     "data": {
      "image/png": "[encoded data removed]",
      "text/plain": [
       "<Figure size 640x480 with 1 Axes>"
      ]
     },
     "metadata": {},
     "output_type": "display_data"
    }
   ],
   "source": [
    "# Create the grouped bar plot with stacked=False to show two bars side by side for each day\n",
    "classic_bike.groupby(['day', 'member_casual'])['ride_length_min'].median().unstack().plot(kind='bar', stacked=False)\n",
    "\n",
    "# Set plot labels and title\n",
    "plt.xlabel('Weekdays')\n",
    "plt.ylabel('Ride length (minutes)')\n",
    "plt.title('Member vs. Casual trips duration during the week (2022) by classic bikes')"
   ]
  },
  {
   "cell_type": "code",
   "execution_count": 55,
   "id": "41dd58e3",
   "metadata": {},
   "outputs": [
    {
     "data": {
      "text/plain": [
       "Text(0.5, 1.0, 'Member vs. Casual trips duration during the week (2022) by electric bikes')"
      ]
     },
     "execution_count": 55,
     "metadata": {},
     "output_type": "execute_result"
    },
    {
     "data": {
      "image/png": "[encoded data removed]",
      "text/plain": [
       "<Figure size 640x480 with 1 Axes>"
      ]
     },
     "metadata": {},
     "output_type": "display_data"
    }
   ],
   "source": [
    "# Create the grouped bar plot with stacked=False to show two bars side by side for each day\n",
    "electric_bike.groupby(['day', 'member_casual'])['ride_length_min'].median().unstack().plot(kind='bar', stacked=False)\n",
    "\n",
    "# Set plot labels and title\n",
    "plt.xlabel('Weekdays')\n",
    "plt.ylabel('Ride length (minutes)')\n",
    "plt.title('Member vs. Casual trips duration during the week (2022) by electric bikes')"
   ]
  },
  {
   "cell_type": "markdown",
   "id": "8a365ce2",
   "metadata": {},
   "source": [
    "The last four graphs show the trends as expected. "
   ]
  },
  {
   "cell_type": "markdown",
   "id": "4f39e0ca",
   "metadata": {},
   "source": [
    "### 4.2. Interpreting"
   ]
  },
  {
   "cell_type": "markdown",
   "id": "c9856c72",
   "metadata": {},
   "source": [
    "I have already explained what can be gained from analyzing the data. In this section I will brief them:\n",
    "\n",
    "1- The number of rides done by casuals drastically increase in Summer. Their usage in cold seasons is far too low caompared to hot seasons.\n",
    "\n",
    "2- During a week, casuals and members show an opposite behaviour. The number of rides members take will drop on weekends; but the number of rides casual riders take increase on weekends. So, any marketing campaign must focus on encouraging casuals to use the bikes on weekdays as well.\n",
    "\n",
    "3- Casuals take longer rides on average. The difference roots from their purpose of using the bikes. One explanation is that the casuals might be using the bikes for excursions. Members however tend to use the bikes as fast as they can. This is probably caused by this fact that they use the bikes for commuting to work or university.\n",
    "\n",
    "4- Regarding bike type, it must be noted that casuals use electric bikes more than other types. They also use the docked bikes as their last choice, however, they use them much longer than the others, on average. It must be noted that although, casuals use the electric bikes more often, the ride length of electrics is lower than classics, on average. This is probably caused by batteries they use. This should be investigated further. Mebers, on the other hand, prefer using classic and electric bikes at almost a same rate. They never used docked bikes in 2022.  "
   ]
  },
  {
   "cell_type": "markdown",
   "id": "00974ed2",
   "metadata": {},
   "source": [
    "## Suggestions"
   ]
  },
  {
   "cell_type": "markdown",
   "id": "00668753",
   "metadata": {},
   "source": [
    "1- The marketing campaign for converting casual riders to members should focus on the methods to convince the casuals to use the bikes in weekdays too, also they should think about encouraging them to use the bikes on cold seasons as well. \n",
    "\n",
    "2- Electric bikes are preferable by most casuals. The campaign should consider take that into consideration. And although they tend to use docked bikes not that often, they use them much longer than other bikes.\n",
    "\n",
    "3- For taking the analysis to deeper level, I think the time of the day at which the rides are taken can possibly give us some interesting insights."
   ]
  },
  {
   "cell_type": "markdown",
   "id": "799c0023",
   "metadata": {},
   "source": [
    "## Last word\n",
    "I want to use this moment to thank you guys for reading this, also Google for providing such a great program, [Google Data Analytics program at Coursera](https://www.coursera.org/professional-certificates/google-data-analytics)."
   ]
  }
 ],
 "metadata": {
  "kernelspec": {
   "display_name": "Python 3 (ipykernel)",
   "language": "python",
   "name": "python3"
  },
  "language_info": {
   "codemirror_mode": {
    "name": "ipython",
    "version": 3
   },
   "file_extension": ".py",
   "mimetype": "text/x-python",
   "name": "python",
   "nbconvert_exporter": "python",
   "pygments_lexer": "ipython3",
   "version": "3.11.5"
  }
 },
 "nbformat": 4,
 "nbformat_minor": 5
}
